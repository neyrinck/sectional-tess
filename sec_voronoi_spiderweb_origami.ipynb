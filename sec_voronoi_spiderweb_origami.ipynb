{
 "cells": [
  {
   "cell_type": "markdown",
   "metadata": {},
   "source": [
    "# Interactive 2D sectional-Voronoi spiderweb\n",
    "\n",
    "By Mark Neyrinck and Johan Hidding (whose algorithm in https://github.com/jhidding/adhesion-example this is based on). See also https://arxiv.org/abs/1710.04509, Whiteley et al., https://link.springer.com/chapter/10.1007/978-0-387-92714-5_18, and articles by Robert Lang about spiderwebs and origami tessellations, e.g. \"Every Spider Web Has a Simple Flat Twist Tessellation\", https://books.google.com/books?id=mthYCwAAQBAJ&pg=PA190, and https://books.google.com/books?hl=en&lr=&id=r-k4GSYaV5YC&oi=fnd&pg=PA455.\n",
    "\n",
    "Sectional-Voronoi diagrams (also known as power diagrams and additively-weighted Voronoi diagrams) are \"spiderwebs\", a structural-engineering term for a spatial graph that can be strung up to be entirely either in tension, or compression.  A Voronoi tessellation is a set of cells, each cell of which is the patch of space closest to its correpsonding generator. In a sectional-Voronoi tessellation, there is a constant added in quadrature to the distance function (a.k.a. \"power function\") used for each generator, generally different for each generator. This constant can be interpreted as a distance perpendicular to the space being tessellated, thus the tessellation can be interpreted as a \"section\" through a higher-dimensional space.\n",
    "\n",
    "There are two figures below. Fig 2 shows blue dots (2D positions of generators) and black lines (sectional-Voronoi edgges). If Fig 1 remains untouched, Fig 2 is a usual Voronoi tessellation. But generators (green, in Fig 1) can be slid vertically to adjust their potential, i.e. additive weight, or \"power\", sliding Voronoi edges in or out in Fig 2, producing a sectional-Voronoi diagram.\n",
    "\n",
    "To add: Delaunay visualization, representing tensions on each edge\n"
   ]
  },
  {
   "cell_type": "code",
   "execution_count": 1,
   "metadata": {},
   "outputs": [],
   "source": [
    "import numpy as np\n",
    "import bqplot # Bloomberg plotting package with straightforward interactivity\n",
    "import sectional_tess #package in this repository with sectional tessellation code\n",
    "import pylab as plt\n",
    "from matplotlib.patches import Polygon\n",
    "from matplotlib import collections\n",
    "from scipy.spatial import voronoi_plot_2d\n",
    "#from scipy.spatial import Voronoi, Delaunay, voronoi_plot_2d"
   ]
  },
  {
   "cell_type": "code",
   "execution_count": 2,
   "metadata": {},
   "outputs": [],
   "source": [
    "# Set initial positions of generators\n",
    "\n",
    "# 5x5 grid\n",
    "# x_data = np.repeat(np.arange(5),5)\n",
    "# y_data = np.tile(np.arange(5),5)\n",
    "\n",
    "# Concentric circles:\n",
    "# Outernum = #generators along an outer circle of radius 2\n",
    "# Innernum is #generators along a circle of radius 1\n",
    "# Default (outernum,innernum)=(3,2) produces a framework roughly resembling the Eiffel Tower\n",
    "outernum = 3\n",
    "innernum = 2\n",
    "y_data = -np.concatenate((2.*np.cos(2.*np.pi/float(outernum)*np.arange(outernum)),\n",
    "                         1.*np.cos(2.*np.pi*np.arange(innernum)/float(outernum))))+2.\n",
    "x_data = np.concatenate((2.*np.sin(2.*np.pi/float(outernum)*np.arange(outernum)),\n",
    "                        1.*np.sin(2.*np.pi*np.arange(innernum)/float(innernum))))+2."
   ]
  },
  {
   "cell_type": "code",
   "execution_count": 3,
   "metadata": {},
   "outputs": [
    {
     "name": "stderr",
     "output_type": "stream",
     "text": [
      "/usr/local/lib/python2.7/site-packages/bqplot/traits.py:137: FutureWarning: Conversion of the second argument of issubdtype from `float` to `np.floating` is deprecated. In future, it will be treated as `np.float64 == np.dtype(float).type`.\n",
      "  if np.issubdtype(a.dtype, np.float):\n"
     ]
    }
   ],
   "source": [
    "## User interface based on https://githubqplot.com/bloomberg/bqplot/blob/master/examples/Marks/Scatter.ipynb\n",
    "sc_x = bqplot.LinearScale(stabilized=True,max=5,min=-1)\n",
    "sc_y = bqplot.LinearScale(stabilized=True,max=5,min=-1)\n",
    "\n",
    "scat_height = bqplot.Scatter(x=x_data, y=y_data, scales={'x': sc_x, 'y': sc_y}, colors=['green'],\n",
    "               enable_move=True, restrict_y=True)\n",
    "scat_height.y_data_init = 1.*y_data\n",
    "scat = bqplot.Scatter(x=x_data, y=y_data, scales={'x': sc_x, 'y': sc_y}, colors=['blue'],\n",
    "               enable_move=True)\n",
    "\n",
    "lin = bqplot.Lines(x=[], y=[], scales={'x': sc_x, 'y': sc_y}, colors=['black'])\n",
    "lin_ext = bqplot.Lines(x=[], y=[], scales={'x': sc_x, 'y': sc_y}, colors=['black'])\n",
    "\n",
    "def update_line(change=None):\n",
    "    with lin.hold_sync():\n",
    "        \n",
    "        # if a point was added to scat\n",
    "        if (len(scat.y) == len(scat_height.y) + 1):\n",
    "            scat_height.y = np.append(scat_height.y, scat.y[-1])\n",
    "        if (len(scat.y) == len(scat_height.y_data_init) + 1):\n",
    "            scat_height.y_data_init = np.append(scat_height.y_data_init, scat.y[-1])\n",
    "        if (len(scat.x) == len(scat_height.x) + 1):\n",
    "            scat_height.x = np.append(scat_height.x, scat.x[-1])            \n",
    "            \n",
    "        # if a point was added to scat_height\n",
    "        if (len(scat_height.y) == len(scat.y) + 1):\n",
    "            scat.y = np.append(scat.y, scat_height.y[-1])  \n",
    "        if (len(scat_height.y) == len(scat_height.y_data_init) + 1):\n",
    "            scat_height.y_data_init = np.append(scat_height.y_data_init,scat_height.y[-1])\n",
    "        if (len(scat_height.x) == len(scat.x) + 1):\n",
    "            scat.x = np.append(scat.x, scat_height.x[-1])               \n",
    "        \n",
    "        # calculate sectional voronoi diagram\n",
    "        vor = sectional_tess.sectional_voronoi(np.transpose(np.array([scat.x,scat.y])),\n",
    "                                               scat_height.y-scat_height.y_data_init)\n",
    "        \n",
    "        # The rest of update_line is based on scipy.spatial.voronoi_plot_2d\n",
    "        lenridgevert = len(vor.ridge_vertices)\n",
    "        lin.x = -np.ones(2*lenridgevert,dtype=np.float)\n",
    "        lin.y = -np.ones(2*lenridgevert,dtype=np.float)\n",
    "        lin_ext.x = -np.ones(2*lenridgevert,dtype=np.float)\n",
    "        lin_ext.y = -np.ones(2*lenridgevert,dtype=np.float)\n",
    "        counter2 = 0\n",
    "        for isimplex in range(lenridgevert):\n",
    "            #print vor.ridge_vertices[isimplex]\n",
    "            simplex = np.asarray(vor.ridge_vertices[isimplex])\n",
    "            if np.all(simplex >= 0):\n",
    "                #print simplex\n",
    "                lin.x[counter2:counter2+2]= vor.vertices[simplex][:,0]\n",
    "                lin.y[counter2:counter2+2]= vor.vertices[simplex][:,1]\n",
    "                counter2 += 2\n",
    "        lin.x = lin.x[:counter2].reshape(counter2//2,2)\n",
    "        lin.y = lin.y[:counter2].reshape(counter2//2,2)\n",
    "                \n",
    "        center = vor.points.mean(axis=0)\n",
    "        external_scale = np.sqrt(np.std(scat.x)*np.std(scat.y))\n",
    "        counter2 = 0\n",
    "        for pointidx, simplex in zip(vor.ridge_points, vor.ridge_vertices):\n",
    "            simplex = np.asarray(simplex)\n",
    "            if np.any(simplex < 0):\n",
    "                i = simplex[simplex >= 0][0]  # finite end Voronoi vertex\n",
    "\n",
    "                t = vor.points[pointidx[1]] - vor.points[pointidx[0]]  # tangent\n",
    "                normt = np.linalg.norm(t)\n",
    "                if normt > 0.:\n",
    "                    t /= normt\n",
    "                n = np.array([-t[1], t[0]])  # normal\n",
    "\n",
    "                midpoint = vor.points[pointidx].mean(axis=0)\n",
    "                direction = np.sign(np.dot(midpoint - center, n)) * n\n",
    "                far_point = vor.vertices[i] + direction*external_scale\n",
    "\n",
    "                lin_ext.x[counter2:counter2+2]= [vor.vertices[i,0],far_point[0]]\n",
    "                lin_ext.y[counter2:counter2+2]= [vor.vertices[i,1],far_point[1]]\n",
    "\n",
    "                counter2 += 2\n",
    "\n",
    "        lin_ext.x = lin_ext.x[:counter2].reshape(counter2//2,2)\n",
    "        lin_ext.y = lin_ext.y[:counter2].reshape(counter2//2,2)\n",
    "\n",
    "        \n",
    "update_line()\n",
    "# update line on change of x or y of scatter\n",
    "\n",
    "scat_height.observe(update_line,names=['y'])\n",
    "\n",
    "scat.observe(update_line, names=['x'])\n",
    "scat.observe(update_line, names=['y'])\n",
    "\n",
    "ax_x = bqplot.Axis(scale=sc_x)\n",
    "ax_y = bqplot.Axis(scale=sc_y, orientation='vertical')\n",
    "\n",
    "# change the bleow \"with\" statements to e.g. disable adding points\n",
    "with scat_height.hold_sync():\n",
    "    scat_height.update_on_move = True\n",
    "    scat_height.update_on_add = True\n",
    "    scat_height.interactions = {'click': 'add'}\n",
    "#allow adding generators to 'scat_height' (Fig 1)\n",
    "\n",
    "with scat.hold_sync():\n",
    "    scat.update_on_move = True #dynamic update\n",
    "    scat.update_on_add = True \n",
    "    scat.interactions = {'click': 'add'}\n",
    "#allow adding generators to 'scat' (Fig 2)"
   ]
  },
  {
   "cell_type": "markdown",
   "metadata": {},
   "source": [
    "Fig 1: Generators in green; slide vertically to adjust additive weights. \n",
    "\n",
    "Fig 2: 2D position of generators and sectional-Voronoi edges.\n",
    "\n",
    "Generators can be added to either figure, but currently they cannot be deleted, and changes (moving or adding points) cannot be undone. Thus it can be useful to turn off point-adding."
   ]
  },
  {
   "cell_type": "code",
   "execution_count": 4,
   "metadata": {},
   "outputs": [
    {
     "data": {
      "application/vnd.jupyter.widget-view+json": {
       "model_id": "68a23f4e31d94d2dbf10d28cab55d9c3",
       "version_major": 2,
       "version_minor": 0
      },
      "text/html": [
       "<p>Failed to display Jupyter Widget of type <code>Figure</code>.</p>\n",
       "<p>\n",
       "  If you're reading this message in the Jupyter Notebook or JupyterLab Notebook, it may mean\n",
       "  that the widgets JavaScript is still loading. If this message persists, it\n",
       "  likely means that the widgets JavaScript library is either not installed or\n",
       "  not enabled. See the <a href=\"https://ipywidgets.readthedocs.io/en/stable/user_install.html\">Jupyter\n",
       "  Widgets Documentation</a> for setup instructions.\n",
       "</p>\n",
       "<p>\n",
       "  If you're reading this message in another frontend (for example, a static\n",
       "  rendering on GitHub or <a href=\"https://nbviewer.jupyter.org/\">NBViewer</a>),\n",
       "  it may mean that your frontend doesn't currently support widgets.\n",
       "</p>\n"
      ],
      "text/plain": [
       "Figure(axes=[Axis(scale=LinearScale(max=5.0, min=-1.0, stabilized=True)), Axis(orientation='vertical', scale=LinearScale(max=5.0, min=-1.0, stabilized=True))], fig_margin={'top': 60, 'right': 60, 'bottom': 60, 'left': 60}, layout=Layout(min_width=u'125px'), marks=[Scatter(colors=['green'], enable_move=True, interactions={'click': 'add'}, restrict_y=True, scales={'y': LinearScale(max=5.0, min=-1.0, stabilized=True), 'x': LinearScale(max=5.0, min=-1.0, stabilized=True)}, scales_metadata={'opacity': {'dimension': 'opacity'}, 'y': {'orientation': 'vertical', 'dimension': 'y'}, 'color': {'dimension': 'color'}, 'x': {'orientation': 'horizontal', 'dimension': 'x'}, 'skew': {'dimension': 'skew'}, 'rotation': {'dimension': 'rotation'}, 'size': {'dimension': 'size'}}, tooltip_style={'opacity': 0.9}, update_on_move=True, x=array([2.        , 3.73205081, 0.26794919, 2.        , 2.        ]), y=array([0. , 3. , 3. , 1. , 2.5]))], max_aspect_ratio=1.0, scale_x=LinearScale(allow_padding=False, max=1.0, min=0.0), scale_y=LinearScale(allow_padding=False, max=1.0, min=0.0))"
      ]
     },
     "metadata": {},
     "output_type": "display_data"
    }
   ],
   "source": [
    "bqplot.Figure(marks=[scat_height], axes=[ax_x, ax_y],min_aspect_ratio=1,max_aspect_ratio=1)"
   ]
  },
  {
   "cell_type": "code",
   "execution_count": 5,
   "metadata": {},
   "outputs": [
    {
     "data": {
      "application/vnd.jupyter.widget-view+json": {
       "model_id": "729c0359cca242828a9259e013192b23",
       "version_major": 2,
       "version_minor": 0
      },
      "text/html": [
       "<p>Failed to display Jupyter Widget of type <code>Figure</code>.</p>\n",
       "<p>\n",
       "  If you're reading this message in the Jupyter Notebook or JupyterLab Notebook, it may mean\n",
       "  that the widgets JavaScript is still loading. If this message persists, it\n",
       "  likely means that the widgets JavaScript library is either not installed or\n",
       "  not enabled. See the <a href=\"https://ipywidgets.readthedocs.io/en/stable/user_install.html\">Jupyter\n",
       "  Widgets Documentation</a> for setup instructions.\n",
       "</p>\n",
       "<p>\n",
       "  If you're reading this message in another frontend (for example, a static\n",
       "  rendering on GitHub or <a href=\"https://nbviewer.jupyter.org/\">NBViewer</a>),\n",
       "  it may mean that your frontend doesn't currently support widgets.\n",
       "</p>\n"
      ],
      "text/plain": [
       "Figure(axes=[Axis(scale=LinearScale(max=5.0, min=-1.0, stabilized=True)), Axis(orientation='vertical', scale=LinearScale(max=5.0, min=-1.0, stabilized=True))], fig_margin={'top': 60, 'right': 60, 'bottom': 60, 'left': 60}, layout=Layout(min_width=u'125px'), marks=[Scatter(colors=['blue'], enable_move=True, interactions={'click': 'add'}, scales={'y': LinearScale(max=5.0, min=-1.0, stabilized=True), 'x': LinearScale(max=5.0, min=-1.0, stabilized=True)}, scales_metadata={'opacity': {'dimension': 'opacity'}, 'y': {'orientation': 'vertical', 'dimension': 'y'}, 'color': {'dimension': 'color'}, 'x': {'orientation': 'horizontal', 'dimension': 'x'}, 'skew': {'dimension': 'skew'}, 'rotation': {'dimension': 'rotation'}, 'size': {'dimension': 'size'}}, tooltip_style={'opacity': 0.9}, update_on_move=True, x=array([2.        , 3.73205081, 0.26794919, 2.        , 2.        ]), y=array([0. , 3. , 3. , 1. , 2.5])), Lines(colors=['black'], interactions={'hover': 'tooltip'}, scales={'y': LinearScale(max=5.0, min=-1.0, stabilized=True), 'x': LinearScale(max=5.0, min=-1.0, stabilized=True)}, scales_metadata={'y': {'orientation': 'vertical', 'dimension': 'y'}, 'x': {'orientation': 'horizontal', 'dimension': 'x'}, 'color': {'dimension': 'color'}}, tooltip_style={'opacity': 0.9}, x=array([[ 2.        ,  0.84529946],\n",
       "       [ 2.        ,  3.15470054],\n",
       "       [-0.59807621,  0.84529946],\n",
       "       [-0.59807621,  4.59807621],\n",
       "       [ 0.84529946,  3.15470054],\n",
       "       [ 4.59807621,  3.15470054]]), y=array([[5.75, 1.75],\n",
       "       [5.75, 1.75],\n",
       "       [0.5 , 1.75],\n",
       "       [0.5 , 0.5 ],\n",
       "       [1.75, 1.75],\n",
       "       [0.5 , 1.75]])), Lines(colors=['black'], interactions={'hover': 'tooltip'}, scales={'y': LinearScale(max=5.0, min=-1.0, stabilized=True), 'x': LinearScale(max=5.0, min=-1.0, stabilized=True)}, scales_metadata={'y': {'orientation': 'vertical', 'dimension': 'y'}, 'x': {'orientation': 'horizontal', 'dimension': 'x'}, 'color': {'dimension': 'color'}}, tooltip_style={'opacity': 0.9}, x=array([[ 2.        ,  2.        ],\n",
       "       [-0.59807621, -1.59100149],\n",
       "       [ 4.59807621,  5.59100149]]), y=array([[ 5.75      ,  6.89653135],\n",
       "       [ 0.5       , -0.07326568],\n",
       "       [ 0.5       , -0.07326568]]))], max_aspect_ratio=1.0, scale_x=LinearScale(allow_padding=False, max=1.0, min=0.0), scale_y=LinearScale(allow_padding=False, max=1.0, min=0.0))"
      ]
     },
     "metadata": {},
     "output_type": "display_data"
    }
   ],
   "source": [
    "bqplot.Figure(marks=[scat, lin, lin_ext], axes=[ax_x, ax_y],min_aspect_ratio=1,max_aspect_ratio=1)"
   ]
  },
  {
   "cell_type": "code",
   "execution_count": 6,
   "metadata": {},
   "outputs": [
    {
     "name": "stderr",
     "output_type": "stream",
     "text": [
      "/usr/local/lib/python2.7/site-packages/scipy/spatial/_plotutils.py:20: MatplotlibDeprecationWarning: The ishold function was deprecated in version 2.0.\n",
      "  was_held = ax.ishold()\n"
     ]
    },
    {
     "data": {
      "image/png": "[encoded data removed]",
      "text/plain": [
       "<matplotlib.figure.Figure at 0x112573750>"
      ]
     },
     "metadata": {},
     "output_type": "display_data"
    }
   ],
   "source": [
    "reload(sectional_tess)\n",
    "vor = sectional_tess.sectional_voronoi(np.transpose(np.array([scat.x,scat.y])),\n",
    "                                               scat_height.y-scat_height.y_data_init)\n",
    "fig=plt.figure(figsize=(6,6))\n",
    "ax=plt.subplot(111)\n",
    "voronoi_plot_2d(vor,ax=ax)\n",
    "delaun = sectional_tess.sectional_delaunay(np.transpose(np.array([scat.x,scat.y])),\n",
    "                                               scat_height.y-scat_height.y_data_init)\n",
    "ax.triplot(delaun.points[:,0], delaun.points[:,1], delaun.simplices)\n",
    "\n",
    "ax.axis('equal')\n",
    "plt.show()"
   ]
  },
  {
   "cell_type": "code",
   "execution_count": 7,
   "metadata": {},
   "outputs": [
    {
     "name": "stdout",
     "output_type": "stream",
     "text": [
      "[[4 1 2]\n",
      " [3 0 2]\n",
      " [3 4 2]\n",
      " [3 0 1]\n",
      " [3 4 1]]\n"
     ]
    }
   ],
   "source": [
    "print delaun.simplices"
   ]
  },
  {
   "cell_type": "code",
   "execution_count": 8,
   "metadata": {},
   "outputs": [],
   "source": [
    "def plot_mink_fold(vor,delaun, alpha,rotangle):\n",
    "    fullvorv = vor.vertices\n",
    "    nvertstot = fullvorv.shape[0]\n",
    "    nsimps = delaun.simplices.shape[0]\n",
    "    # these should be equal\n",
    "    \n",
    "    unrot_edge_points = np.empty((nsimps,4,2),dtype=np.float)\n",
    "    unrot_edge_points_aneg = np.empty((nsimps,4,2),dtype=np.float)\n",
    "    unrot_edge_points[:,:3,:] = alpha*delaun.points[delaun.simplices.flatten(),:2].reshape(nsimps,3,2)\n",
    "    unrot_edge_points_aneg[:,:3,:] = -alpha*delaun.points[delaun.simplices.flatten(),:2].reshape(nsimps,3,2)\n",
    "    unrot_edge_points[:,3,:] = unrot_edge_points[:,0,:]\n",
    "    unrot_edge_points_aneg[:,3,:] = unrot_edge_points_aneg[:,0,:]\n",
    "        \n",
    "    # rotate the points\n",
    "    if rotangle > 0.:\n",
    "        theta = np.radians(rotangle)\n",
    "        c, s = np.cos(theta), np.sin(theta)\n",
    "        R = np.array(((c,-s), (s, c)))\n",
    "        Rneg = np.array(((c,s), (-s, c)))\n",
    "        rot_edge_points = np.einsum('ij,klj->kli',R,unrot_edge_points)\n",
    "        rot_edge_points_aneg = np.einsum('ij,klj->kli',Rneg,unrot_edge_points_aneg)\n",
    "    else:\n",
    "        rot_edge_points = 1.*unrot_edge_points\n",
    "        rot_edge_points_aneg = 1.*unrot_edge_points\n",
    "    \n",
    "    for i in range(4):\n",
    "        unrot_edge_points[:,i,:] += fullvorv\n",
    "        unrot_edge_points_aneg[:,i,:] += fullvorv\n",
    "        rot_edge_points[:,i,:] += fullvorv\n",
    "        rot_edge_points_aneg[:,i,:] += fullvorv\n",
    "        \n",
    "    maxxie = np.max(np.abs(rot_edge_points))\n",
    "    \n",
    "    dists = np.empty((3,3,2),dtype=np.float)\n",
    "    thresh = float(2**16+1)/float(2**16)\n",
    "\n",
    "    filament_nodes = np.empty((6*nvertstot,2),np.int)\n",
    "    filament_verts = np.empty((6*nvertstot,2),np.int)\n",
    "    filcount = 0\n",
    "    filpatches = []\n",
    "    nodepatches = []\n",
    "    \n",
    "    for node in range(nvertstot):\n",
    "        nodepatches.append(Polygon(rot_edge_points_aneg[node,:3,:]))\n",
    "        \n",
    "        #plt.text(rot_edge_points[node,0,0],rot_edge_points[node,0,1],'%d'%(node))\n",
    "        for adj in range(3):\n",
    "            #for each adjacent Lagrangian triangle, only draw the shortest 2 out of 9 links\n",
    "            adjnode = delaun.neighbors[node,adj]\n",
    "            if adjnode >= 0: #real neighbor\n",
    "                for vert1 in range(3):\n",
    "                    for vert2 in range(3):\n",
    "                        dists[vert1,vert2,:] = unrot_edge_points[node,vert1,:]-\\\n",
    "                                                unrot_edge_points[adjnode,vert2,:]\n",
    "                                                   \n",
    "                sumdist2 = np.sum(dists**2,-1)\n",
    "                mindist2 = np.min(sumdist2)\n",
    "                wheremin = np.where(sumdist2/mindist2 < thresh)\n",
    "\n",
    "                #filaments[filcount,:,:]=[node_edge_points[node,wheremin[0][0],:],\n",
    "                #                         node_edge_points[node,wheremin[0][0],:]+\\\n",
    "                #                         alphasign*dists[wheremin[0][0],wheremin[1][0],:]]\n",
    "                filament_nodes[filcount,:]=[node,adjnode]\n",
    "                filament_verts[filcount,:] = [wheremin[0][0],wheremin[1][0]]\n",
    "                filcount += 1\n",
    "                filament_nodes[filcount,:]=[node,adjnode]\n",
    "                filament_verts[filcount,:] = [wheremin[0][1],wheremin[1][1]]\n",
    "                filcount += 1\n",
    "                \n",
    "                filpatches.append(Polygon([rot_edge_points_aneg[node,wheremin[0][0],:],\n",
    "                                           rot_edge_points_aneg[adjnode,wheremin[1][0],:],\n",
    "                                           rot_edge_points_aneg[adjnode,wheremin[1][1],:],\n",
    "                                            rot_edge_points_aneg[node,wheremin[0][1],:]]))\n",
    "                                                   \n",
    "\n",
    "\n",
    "    filaments = np.empty((filcount,2,2))\n",
    "    filaments = rot_edge_points[filament_nodes[:filcount,:],filament_verts[:filcount,:],:]\n",
    "\n",
    "    filaments_aneg = rot_edge_points_aneg[filament_nodes[:filcount,:],filament_verts[:filcount,:],:]\n",
    "\n",
    "    fig = plt.figure(figsize=[12,4])\n",
    "\n",
    "    fig.subplots_adjust(left=0.,right=1.,top=1.,bottom=0.,hspace=0.,wspace=0.)\n",
    "\n",
    "    ax = fig.add_subplot(131)\n",
    "    ax.add_collection(collections.LineCollection(rot_edge_points[:,:,:], linewidths=0.5, color='black'))\n",
    "    ax.add_collection(collections.LineCollection(filaments,linewidths=0.5, color='C0',alpha=1.))    \n",
    "    ax.axis('equal')\n",
    "    ax.set_xticks([]); ax.set_yticks([])\n",
    "    \n",
    "    ax2 = fig.add_subplot(132)\n",
    "    ax2.add_collection(collections.LineCollection(rot_edge_points_aneg[:,:,:], linewidths=0.5, color='black',alpha=0.5))\n",
    "    ax2.add_collection(collections.LineCollection(filaments_aneg,linewidths=0.5, color='C0',alpha=0.25))\n",
    "    ax2.set_yticks([])\n",
    "    ax2.set_xticks([])\n",
    "    ax2.axis('equal')\n",
    "    #plt.savefig('foldedform_creases.pdf',transparent=True)\n",
    "\n",
    "    ax3 = fig.add_subplot(133)\n",
    "    ax3.add_collection(collections.PatchCollection(filpatches,alpha=1./12.,color='C0'))\n",
    "    ax3.add_collection(collections.PatchCollection(nodepatches,alpha=1./12.,color='black'))\n",
    "    ax3.axis('equal')\n",
    "    ax3.set_yticks([])\n",
    "    ax3.set_xticks([])\n",
    "    plt.savefig('origameiffel.pdf',transparent=True)\n",
    "    \n",
    "    plt.show()\n",
    "    return"
   ]
  },
  {
   "cell_type": "code",
   "execution_count": 9,
   "metadata": {},
   "outputs": [
    {
     "data": {
      "image/png": "[encoded data removed]",
      "text/plain": [
       "<matplotlib.figure.Figure at 0x112573c10>"
      ]
     },
     "metadata": {},
     "output_type": "display_data"
    }
   ],
   "source": [
    "plot_mink_fold(vor,delaun,0.5,80.)"
   ]
  },
  {
   "cell_type": "code",
   "execution_count": null,
   "metadata": {},
   "outputs": [],
   "source": []
  },
  {
   "cell_type": "code",
   "execution_count": null,
   "metadata": {},
   "outputs": [],
   "source": []
  }
 ],
 "metadata": {
  "kernelspec": {
   "display_name": "Python 2",
   "language": "python",
   "name": "python2"
  },
  "language_info": {
   "codemirror_mode": {
    "name": "ipython",
    "version": 2
   },
   "file_extension": ".py",
   "mimetype": "text/x-python",
   "name": "python",
   "nbconvert_exporter": "python",
   "pygments_lexer": "ipython2",
   "version": "2.7.13"
  }
 },
 "nbformat": 4,
 "nbformat_minor": 2
}
